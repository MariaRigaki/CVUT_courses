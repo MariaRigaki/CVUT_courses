{
 "cells": [
  {
   "cell_type": "code",
   "execution_count": 1,
   "metadata": {},
   "outputs": [],
   "source": [
    "import numpy as np\n",
    "from pyflann import *\n",
    "import time\n",
    "import warnings"
   ]
  },
  {
   "cell_type": "code",
   "execution_count": 2,
   "metadata": {},
   "outputs": [],
   "source": [
    "warnings.filterwarnings('ignore')\n",
    "\n",
    "def sum_of_distances(points, closest, centroids):\n",
    "    \"\"\"\n",
    "    Calculate sum of distances between the points and the centroids\n",
    "    \"\"\"\n",
    "    dist = 0\n",
    "    for j in range(points.shape[0]):\n",
    "        dist += (points[j, :] - centroids[closest[j]])**2\n",
    "\n",
    "    return np.sum(dist)\n",
    "\n",
    "\n",
    "def initialize_centroids(points: np.ndarray, k: int, seed: int=1234) -> np.ndarray:\n",
    "    \"\"\"Returns k random centroids from the initial points\n",
    "    :type k: int\n",
    "    :type seed: int\n",
    "    \"\"\"\n",
    "    c = points.copy()\n",
    "    np.random.seed(seed)\n",
    "    np.random.shuffle(c)\n",
    "    return c[:k]\n",
    "\n",
    "def move_centroids(points, closest, centroids, seed: int=1234):\n",
    "    \"\"\"\n",
    "    Returns the new centroids assigned from the points closest to them.\n",
    "    \"\"\"\n",
    "    new_centroids = []\n",
    "    for k in range(centroids.shape[0]):\n",
    "        # Treat the case where a centroid has no points assigned\n",
    "        # by selecting a random point as a new centroid\n",
    "        if len(points[closest == k]) > 0:\n",
    "            new_centroids.append(points[closest == k].mean(axis=0))\n",
    "        else:\n",
    "            centroids = points.copy()\n",
    "            np.random.seed(seed)\n",
    "            idx = np.random.randint(len(points))\n",
    "            new_centroids.append(points[idx])\n",
    "\n",
    "    return np.array([points[closest == k].mean(axis=0) for k in range(centroids.shape[0])])\n"
   ]
  },
  {
   "cell_type": "code",
   "execution_count": 6,
   "metadata": {},
   "outputs": [
    {
     "name": "stdout",
     "output_type": "stream",
     "text": [
      "Shape of data:  (2097152, 128)\n"
     ]
    }
   ],
   "source": [
    "num_iterations = 30\n",
    "K = 10000\n",
    "\n",
    "# Read the SIFT data and shape them accordingly\n",
    "vec = np.fromfile('data/SIFT.dat', dtype=np.uint8)\n",
    "points = np.float32(vec.reshape(-1, 128))\n",
    "print(\"Shape of data: \", points.shape)\n",
    "\n",
    "init_centroids = initialize_centroids(points, K)"
   ]
  },
  {
   "cell_type": "code",
   "execution_count": 8,
   "metadata": {},
   "outputs": [
    {
     "name": "stdout",
     "output_type": "stream",
     "text": [
      "\n",
      "****************************************\n",
      "Starting approximate k-means with k-d trees (90% target precision)\n",
      "Distance based on flann: 119097580000.0\n",
      "Total distance from assigned centroids: 117545780000.0\n",
      "Execution time: 14603.844402551651 seconds: \n"
     ]
    }
   ],
   "source": [
    "# K-means using randomized k-d tree for distance between points and centroids\n",
    "# with 32k cluster centroids\n",
    "start_time = time.time()\n",
    "print(\"\")\n",
    "print(\"****************************************\")\n",
    "print(\"Starting approximate k-means with k-d trees (90% target precision)\")\n",
    "centroids = init_centroids\n",
    "flann1 = FLANN()\n",
    "\n",
    "for i in range(num_iterations):\n",
    "    params = {'algorithm': 'kdtree',\n",
    "              'trees': 20,\n",
    "              'target_precision': 0.90}\n",
    "\n",
    "    closest, dists = flann1.nn(centroids, points, num_neighbors=1, **params)\n",
    "    centroids = move_centroids(points, closest, centroids)\n",
    "\n",
    "print(\"Distance based on flann:\", np.sum(dists))\n",
    "distance = sum_of_distances(points, closest, centroids)\n",
    "print(\"Total distance from assigned centroids:\", distance)\n",
    "print(\"Execution time: %s seconds: \" % (time.time() - start_time))"
   ]
  },
  {
   "cell_type": "code",
   "execution_count": 10,
   "metadata": {},
   "outputs": [
    {
     "name": "stdout",
     "output_type": "stream",
     "text": [
      "\n",
      "****************************************\n",
      "Starting approximate k-means with k-d trees (90% target precision)\n",
      "Run 0, distance: 203238620000.0, elapsed_time: 257.6802816390991\n",
      "Run 1, distance: 140034920000.0, elapsed_time: 518.8287785053253\n",
      "Run 2, distance: 136127800000.0, elapsed_time: 703.3943076133728\n",
      "Run 3, distance: 134504595000.0, elapsed_time: 916.7052247524261\n",
      "Run 4, distance: 133599850000.0, elapsed_time: 1202.4478130340576\n",
      "Run 5, distance: 133035370000.0, elapsed_time: 1477.595908164978\n",
      "Run 6, distance: 132545855000.0, elapsed_time: 1644.0973165035248\n",
      "Run 7, distance: 132252885000.0, elapsed_time: 1890.7755753993988\n",
      "Run 8, distance: 132039880000.0, elapsed_time: 2176.7464797496796\n",
      "Run 9, distance: 131904225000.0, elapsed_time: 2443.4660246372223\n",
      "Run 10, distance: 131710484000.0, elapsed_time: 2587.853992700577\n",
      "Run 11, distance: 131559060000.0, elapsed_time: 2875.029623270035\n",
      "Run 12, distance: 131429840000.0, elapsed_time: 3159.4367611408234\n",
      "Run 13, distance: 131359470000.0, elapsed_time: 3387.514390230179\n",
      "Run 14, distance: 131265370000.0, elapsed_time: 3564.156439304352\n",
      "Run 15, distance: 131221890000.0, elapsed_time: 3857.0530939102173\n",
      "Run 16, distance: 131102820000.0, elapsed_time: 4137.189877748489\n",
      "Run 17, distance: 131076410000.0, elapsed_time: 4334.915915250778\n",
      "Run 18, distance: 131041890000.0, elapsed_time: 4526.988375902176\n",
      "Run 19, distance: 131008840000.0, elapsed_time: 4805.699850320816\n",
      "Run 20, distance: 130894690000.0, elapsed_time: 5087.4612510204315\n",
      "Run 21, distance: 130978790000.0, elapsed_time: 5266.128977775574\n",
      "Run 22, distance: 130880980000.0, elapsed_time: 5466.489537239075\n",
      "Run 23, distance: 130858025000.0, elapsed_time: 5746.655311346054\n",
      "Run 24, distance: 130816420000.0, elapsed_time: 6026.497368335724\n",
      "Run 25, distance: 130776000000.0, elapsed_time: 6194.071045637131\n",
      "Run 26, distance: 130811260000.0, elapsed_time: 6407.186192750931\n",
      "Run 27, distance: 130760114000.0, elapsed_time: 6693.964693546295\n",
      "Run 28, distance: 130707690000.0, elapsed_time: 6977.505706310272\n",
      "Run 29, distance: 130684400000.0, elapsed_time: 7138.149530172348\n",
      "Distance based on flann: 130684400000.0\n",
      "Total distance from assigned centroids: 129979834000.0\n",
      "Execution time: 7143.125957727432 seconds: \n"
     ]
    }
   ],
   "source": [
    "# K-means using randomized k-d tree for distance between points and centroids\n",
    "start_time = time.time()\n",
    "print(\"\")\n",
    "print(\"****************************************\")\n",
    "print(\"Starting approximate k-means with k-d trees (90% target precision)\")\n",
    "centroids = init_centroids\n",
    "flann1 = FLANN()\n",
    "\n",
    "for i in range(30):\n",
    "    params = {'algorithm': 'kdtree',\n",
    "              'trees': 20,\n",
    "              'target_precision': 0.90}\n",
    "\n",
    "    closest, dists = flann1.nn(centroids, points, num_neighbors=1, **params)\n",
    "    centroids = move_centroids(points, closest, centroids)\n",
    "    print(\"Run %s, distance: %s, elapsed_time: %s\" % (i, np.sum(dists), time.time()-start_time))\n",
    "\n",
    "print(\"Distance based on flann:\", np.sum(dists))\n",
    "distance = sum_of_distances(points, closest, centroids)\n",
    "print(\"Total distance from assigned centroids:\", distance)\n",
    "print(\"Execution time: %s seconds: \" % (time.time() - start_time))"
   ]
  },
  {
   "cell_type": "code",
   "execution_count": 7,
   "metadata": {},
   "outputs": [
    {
     "name": "stdout",
     "output_type": "stream",
     "text": [
      "\n",
      "****************************************\n",
      "Starting approximate k-means with k-means search tree (90% target precision)\n",
      "Run 0, distance: 203407740000.0, elapsed_time: 131.43988466262817\n",
      "Run 1, distance: 141095420000.0, elapsed_time: 261.776948928833\n",
      "Run 2, distance: 137536520000.0, elapsed_time: 392.6181581020355\n",
      "Run 3, distance: 136063460000.0, elapsed_time: 522.8307073116302\n",
      "Run 4, distance: 135064190000.0, elapsed_time: 654.3871262073517\n",
      "Run 5, distance: 134488195000.0, elapsed_time: 784.6731293201447\n",
      "Run 6, distance: 134105620000.0, elapsed_time: 915.4390869140625\n",
      "Run 7, distance: 133715034000.0, elapsed_time: 1045.8072052001953\n",
      "Run 8, distance: 133385120000.0, elapsed_time: 1176.3599252700806\n",
      "Run 9, distance: 133535050000.0, elapsed_time: 1306.9205067157745\n",
      "Run 10, distance: 133303870000.0, elapsed_time: 1437.4260156154633\n",
      "Run 11, distance: 133176790000.0, elapsed_time: 1567.8868687152863\n",
      "Run 12, distance: 133220065000.0, elapsed_time: 1699.0954775810242\n",
      "Run 13, distance: 133233020000.0, elapsed_time: 1829.6937947273254\n",
      "Run 14, distance: 133432290000.0, elapsed_time: 1960.3362801074982\n",
      "Run 15, distance: 133114814000.0, elapsed_time: 2090.8198568820953\n",
      "Run 16, distance: 133169420000.0, elapsed_time: 2221.3771822452545\n",
      "Run 17, distance: 132877255000.0, elapsed_time: 2351.820644378662\n",
      "Run 18, distance: 133495456000.0, elapsed_time: 2482.313122034073\n",
      "Run 19, distance: 133228720000.0, elapsed_time: 2612.843177318573\n",
      "Run 20, distance: 132955710000.0, elapsed_time: 2743.439987182617\n",
      "Run 21, distance: 132838510000.0, elapsed_time: 2874.150197982788\n",
      "Run 22, distance: 133041340000.0, elapsed_time: 3004.5371763706207\n",
      "Run 23, distance: 133165860000.0, elapsed_time: 3141.058525800705\n",
      "Run 24, distance: 132900600000.0, elapsed_time: 3280.2938005924225\n",
      "Run 25, distance: 133019380000.0, elapsed_time: 3416.469341278076\n",
      "Run 26, distance: 132792254000.0, elapsed_time: 3555.797347545624\n",
      "Run 27, distance: 132942004000.0, elapsed_time: 3692.990636587143\n",
      "Run 28, distance: 132770390000.0, elapsed_time: 3830.4441845417023\n",
      "Run 29, distance: 132577990000.0, elapsed_time: 3970.592267036438\n",
      "Distance based on flann: 132577990000.0\n",
      "Total distance from assigned centroids: 130785034000.0\n",
      "Execution time: 3975.447098493576 seconds: \n"
     ]
    }
   ],
   "source": [
    "start_time = time.time()\n",
    "# K-means using k-means search trees for distance between points and centroids\n",
    "print(\"\")\n",
    "print(\"****************************************\")\n",
    "print(\"Starting approximate k-means with k-means search tree (90% target precision)\")\n",
    "centroids = init_centroids\n",
    "flann2 = FLANN()\n",
    "for i in range(num_iterations):\n",
    "    params = {'algorithm': 'kmeans',\n",
    "            #  'branching': 100,\n",
    "              'target_precision': 0.90}\n",
    "    closest, dists = flann2.nn(centroids, points, num_neighbors=1, **params)\n",
    "    centroids = move_centroids(points, closest, centroids)\n",
    "    print(\"Run %s, distance: %s, elapsed_time: %s\" % (i, np.sum(dists), time.time()-start_time))\n",
    "\n",
    "print(\"Distance based on flann:\", np.sum(dists))\n",
    "print(\"Total distance from assigned centroids:\", sum_of_distances(points, closest, centroids))\n",
    "print(\"Execution time: %s seconds: \" % (time.time() - start_time))"
   ]
  },
  {
   "cell_type": "code",
   "execution_count": 8,
   "metadata": {},
   "outputs": [
    {
     "name": "stdout",
     "output_type": "stream",
     "text": [
      "****************************************\n",
      "Starting k-means with linear distance\n",
      "Run 0, distance: 189217780000.0, elapsed_time: 520.7227504253387\n",
      "Run 1, distance: 134226770000.0, elapsed_time: 1024.9772317409515\n",
      "Run 2, distance: 130532480000.0, elapsed_time: 1540.5842628479004\n",
      "Run 3, distance: 129032710000.0, elapsed_time: 2046.3688597679138\n",
      "Run 4, distance: 128192250000.0, elapsed_time: 2562.2239575386047\n",
      "Run 5, distance: 127645580000.0, elapsed_time: 3074.725625038147\n",
      "Run 6, distance: 127258590000.0, elapsed_time: 3581.133644580841\n",
      "Run 7, distance: 126969496000.0, elapsed_time: 4088.435772418976\n",
      "Run 8, distance: 126747060000.0, elapsed_time: 4607.087388038635\n",
      "Run 9, distance: 126570330000.0, elapsed_time: 5114.367936372757\n",
      "Distance based on flann: 126570330000.0\n",
      "Total distance from assigned centroids: 126240280000.0\n",
      "Execution time: 5119.254073858261 seconds: \n"
     ]
    }
   ],
   "source": [
    "num_iterations = 10 # it takes x3.5 time to compute\n",
    "# K-means using exact distance\n",
    "start_time = time.time()\n",
    "print(\"****************************************\")\n",
    "print(\"Starting k-means with linear distance\")\n",
    "centroids = init_centroids\n",
    "flann3 = FLANN()\n",
    "for i in range(num_iterations):\n",
    "    params = {'algorithm': 'linear'}\n",
    "    closest, dists = flann3.nn(centroids, points, num_neighbors=1, **params)\n",
    "    centroids = move_centroids(points, closest, centroids)\n",
    "    print(\"Run %s, distance: %s, elapsed_time: %s\" % (i, np.sum(dists), time.time()-start_time))\n",
    "\n",
    "print(\"Distance based on flann:\", np.sum(dists))\n",
    "print(\"Total distance from assigned centroids:\", sum_of_distances(points, closest, centroids))\n",
    "print(\"Execution time: %s seconds: \" % (time.time() - start_time))"
   ]
  },
  {
   "cell_type": "code",
   "execution_count": null,
   "metadata": {},
   "outputs": [],
   "source": []
  }
 ],
 "metadata": {
  "kernelspec": {
   "display_name": "Python 3",
   "language": "python",
   "name": "python3"
  },
  "language_info": {
   "codemirror_mode": {
    "name": "ipython",
    "version": 3
   },
   "file_extension": ".py",
   "mimetype": "text/x-python",
   "name": "python",
   "nbconvert_exporter": "python",
   "pygments_lexer": "ipython3",
   "version": "3.6.4"
  }
 },
 "nbformat": 4,
 "nbformat_minor": 2
}
